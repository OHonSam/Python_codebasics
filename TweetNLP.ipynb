{
 "cells": [
  {
   "cell_type": "code",
   "execution_count": 1,
   "metadata": {},
   "outputs": [
    {
     "name": "stderr",
     "output_type": "stream",
     "text": [
      "d:\\APCS\\2023-2024\\Semester 2\\Python_codebasics\\venv\\Lib\\site-packages\\tqdm\\auto.py:21: TqdmWarning: IProgress not found. Please update jupyter and ipywidgets. See https://ipywidgets.readthedocs.io/en/stable/user_install.html\n",
      "  from .autonotebook import tqdm as notebook_tqdm\n"
     ]
    }
   ],
   "source": [
    "# .\\venv\\Scripts\\activate\n",
    "# pip list : list out all Python installed packages along with their versions\n",
    "# | redirect the output of the left command as the input to the right command\n",
    "# grep searches for pattern in text -> findstr is the Windows equivalent of grep\n",
    "# pip list | grep tweetnlp effectively lists all installed Python packages and filters out only those related to “tweetnlp”\n",
    "\n",
    "# pip install --upgrade google-cloud-storage\n",
    "# pip install tweetnl\n",
    "# pip list | findstr tweetnlp"
   ]
  },
  {
   "cell_type": "code",
   "execution_count": null,
   "metadata": {},
   "outputs": [],
   "source": [
    "# Since loading all packages that may be unnecessary would consume lots of memory and slow down your script, you need to explicitly import packages that you want to use in your script \n",
    "import tweetnlp"
   ]
  }
 ],
 "metadata": {
  "kernelspec": {
   "display_name": ".venv",
   "language": "python",
   "name": "python3"
  },
  "language_info": {
   "codemirror_mode": {
    "name": "ipython",
    "version": 3
   },
   "file_extension": ".py",
   "mimetype": "text/x-python",
   "name": "python",
   "nbconvert_exporter": "python",
   "pygments_lexer": "ipython3",
   "version": "3.12.2"
  }
 },
 "nbformat": 4,
 "nbformat_minor": 2
}
