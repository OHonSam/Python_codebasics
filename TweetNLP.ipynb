{
 "cells": [
  {
   "cell_type": "code",
   "execution_count": 1,
   "metadata": {},
   "outputs": [
    {
     "name": "stderr",
     "output_type": "stream",
     "text": [
      "d:\\APCS\\2023-2024\\Semester 2\\Python_codebasics\\venv\\Lib\\site-packages\\tqdm\\auto.py:21: TqdmWarning: IProgress not found. Please update jupyter and ipywidgets. See https://ipywidgets.readthedocs.io/en/stable/user_install.html\n",
      "  from .autonotebook import tqdm as notebook_tqdm\n"
     ]
    }
   ],
   "source": [
    "# .\\venv\\Scripts\\activate\n",
    "# pip list : list out all Python installed packages along with their versions\n",
    "# | redirect the output of the left command as the input to the right command\n",
    "# grep searches for pattern in text -> findstr is the Windows equivalent of grep\n",
    "# pip list | grep tweetnlp effectively lists all installed Python packages and filters out only those related to “tweetnlp”\n",
    "\n",
    "# pip install --upgrade google-cloud-storage\n",
    "# pip install tweetnl\n",
    "# pip list | findstr tweetnlp"
   ]
  },
  {
   "cell_type": "code",
   "execution_count": 3,
   "metadata": {},
   "outputs": [],
   "source": [
    "# Since loading all packages that may be unnecessary would consume lots of memory and slow down your script, you need to explicitly import packages that you want to use in your script \n",
    "import tweetnlp"
   ]
  },
  {
   "cell_type": "code",
   "execution_count": 9,
   "metadata": {},
   "outputs": [
    {
     "data": {
      "text/plain": [
       "{'label': ['business_&_entrepreneurs', 'science_&_technology']}"
      ]
     },
     "execution_count": 9,
     "metadata": {},
     "output_type": "execute_result"
    }
   ],
   "source": [
    "# Topic Classification ->  assign topics related to its content\n",
    "\n",
    "## Multi-label\n",
    "\n",
    "model = tweetnlp.load_model('topic_classification')  # Or `model = tweetnlp.TopicClassification()`\n",
    "model.topic(\"SK Telecom and Comcast Spectacor Announce Global Esports Joint Venture.\")  # Or `model.predict`\n"
   ]
  },
  {
   "cell_type": "code",
   "execution_count": 12,
   "metadata": {},
   "outputs": [
    {
     "data": {
      "text/plain": [
       "{'label': ['sports'],\n",
       " 'probability': {'arts_&_culture': 0.003120152512565255,\n",
       "  'business_&_entrepreneurs': 0.004956244956701994,\n",
       "  'celebrity_&_pop_culture': 0.02309464104473591,\n",
       "  'diaries_&_daily_life': 0.01539651770144701,\n",
       "  'family': 0.004469731356948614,\n",
       "  'fashion_&_style': 0.002894326113164425,\n",
       "  'film_tv_&_video': 0.013332835398614407,\n",
       "  'fitness_&_health': 0.007021516561508179,\n",
       "  'food_&_dining': 0.0032630572095513344,\n",
       "  'gaming': 0.014031173661351204,\n",
       "  'learning_&_educational': 0.0028917910531163216,\n",
       "  'music': 0.005384225398302078,\n",
       "  'news_&_social_concern': 0.07663474231958389,\n",
       "  'other_hobbies': 0.003516028169542551,\n",
       "  'relationships': 0.003337266854941845,\n",
       "  'science_&_technology': 0.0038626682944595814,\n",
       "  'sports': 0.9817806482315063,\n",
       "  'travel_&_adventure': 0.0034862724132835865,\n",
       "  'youth_&_student_life': 0.0031163133680820465}}"
      ]
     },
     "execution_count": 12,
     "metadata": {},
     "output_type": "execute_result"
    }
   ],
   "source": [
    "# Note: the probability of the multi-label model is the output of sigmoid function on binary prediction whether each topic is positive or negative.\n",
    "model.topic(\"T1 removes Polt from League head coach position, promotes Bengi to interim ahead of Worlds 2022.\", return_probability=True)"
   ]
  },
  {
   "cell_type": "code",
   "execution_count": null,
   "metadata": {},
   "outputs": [],
   "source": []
  }
 ],
 "metadata": {
  "kernelspec": {
   "display_name": ".venv",
   "language": "python",
   "name": "python3"
  },
  "language_info": {
   "codemirror_mode": {
    "name": "ipython",
    "version": 3
   },
   "file_extension": ".py",
   "mimetype": "text/x-python",
   "name": "python",
   "nbconvert_exporter": "python",
   "pygments_lexer": "ipython3",
   "version": "3.12.2"
  }
 },
 "nbformat": 4,
 "nbformat_minor": 2
}
